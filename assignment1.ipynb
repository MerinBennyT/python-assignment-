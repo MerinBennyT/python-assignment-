{
  "nbformat": 4,
  "nbformat_minor": 0,
  "metadata": {
    "colab": {
      "provenance": []
    },
    "kernelspec": {
      "name": "python3",
      "display_name": "Python 3"
    },
    "language_info": {
      "name": "python"
    }
  },
  "cells": [
    {
      "cell_type": "markdown",
      "source": [
        " 1). Write a Python program which accepts the radius of a circle from the user\n",
        "and compute the area.\n",
        "Sample input: Enter the radius: 3\n",
        "Sample output: Area of Circle is 28.59999999999"
      ],
      "metadata": {
        "id": "S9VdL9qqyjJu"
      }
    },
    {
      "cell_type": "code",
      "source": [
        "radius = int(input(\"Enter the radius: \"))\n",
        "radius\n",
        "area = 3.14*radius*radius\n",
        "print('Area of the Circle is',area)"
      ],
      "metadata": {
        "colab": {
          "base_uri": "https://localhost:8080/"
        },
        "id": "DuhOzWYkxrsD",
        "outputId": "ba8e21ff-a3f7-4f8c-868c-ec9524038fb5"
      },
      "execution_count": 4,
      "outputs": [
        {
          "output_type": "stream",
          "name": "stdout",
          "text": [
            "Enter the radius: 3\n",
            "Area of the Circle is 28.259999999999998\n"
          ]
        }
      ]
    },
    {
      "cell_type": "markdown",
      "source": [
        "2)Write a Python Program to accept the details of a student like name, roll\n",
        "number and mark and display it.\n",
        "Sample input: Enter the name: Anisha\n",
        "Enter the roll number: 21\n",
        "Enter the mark: 78\n",
        "Sample output: Name: Anisha\n",
        "Roll No: 21\n",
        "Mark: 78"
      ],
      "metadata": {
        "id": "ofzq_bMtyoA4"
      }
    },
    {
      "cell_type": "code",
      "source": [
        "name=(input('Enter the name:'))\n",
        "\n",
        "roll_number=(input('Enter the roll number:'))\n",
        "\n",
        "mark=(input('Enter the mark:'))\n",
        "\n",
        "print('Name: ',name)\n",
        "print('Roll NO: ',roll_number)\n",
        "print('Mark: ',mark)"
      ],
      "metadata": {
        "colab": {
          "base_uri": "https://localhost:8080/"
        },
        "id": "gRkqUZ99ypoy",
        "outputId": "3aa03a21-002e-4d96-d586-b575aa6d926c"
      },
      "execution_count": 5,
      "outputs": [
        {
          "output_type": "stream",
          "name": "stdout",
          "text": [
            "Enter the name:Anisha\n",
            "Enter the roll number:21\n",
            "Enter the mark: 78\n",
            "Name:  Anisha\n",
            "Roll NO:  21\n",
            "Mark:   78\n"
          ]
        }
      ]
    },
    {
      "cell_type": "markdown",
      "source": [
        "3)Write a Python program to get the largest number from a list.\n",
        "Sample input: 12, 3, 47, 10\n",
        "Sample output: 47 is the largest number."
      ],
      "metadata": {
        "id": "2sOKuV1_0Bj6"
      }
    },
    {
      "cell_type": "code",
      "source": [
        "list1=[12,3,47,10]\n",
        "list1\n",
        "print(f'{max(list1)} is the largest number')"
      ],
      "metadata": {
        "colab": {
          "base_uri": "https://localhost:8080/"
        },
        "id": "dNPofyqx0DF9",
        "outputId": "69db5e01-942f-4e2d-b55f-8e1e49fd2015"
      },
      "execution_count": 17,
      "outputs": [
        {
          "output_type": "stream",
          "name": "stdout",
          "text": [
            "47 is the largest number\n"
          ]
        }
      ]
    },
    {
      "cell_type": "markdown",
      "source": [
        "4)Given a range of first 10 numbers, write a Python program to iterate from\n",
        "start number to the end number and print the sum of the current number\n",
        "and previous number.\n",
        "Sample input: 1….10\n"
      ],
      "metadata": {
        "id": "wvcfLlGl6MGx"
      }
    },
    {
      "cell_type": "code",
      "source": [
        "for i in range(1, 10):\n",
        "    print(f\"Current number {i} + Previous number {i-1} = {i + (i-1)}\")"
      ],
      "metadata": {
        "colab": {
          "base_uri": "https://localhost:8080/"
        },
        "id": "Jg5BBJ1M2hvp",
        "outputId": "0b7fa1ea-ff5a-4d55-a9e6-48dbdf3be71f"
      },
      "execution_count": 26,
      "outputs": [
        {
          "output_type": "stream",
          "name": "stdout",
          "text": [
            "Current number 1 + Previous number 0 = 1\n",
            "Current number 2 + Previous number 1 = 3\n",
            "Current number 3 + Previous number 2 = 5\n",
            "Current number 4 + Previous number 3 = 7\n",
            "Current number 5 + Previous number 4 = 9\n",
            "Current number 6 + Previous number 5 = 11\n",
            "Current number 7 + Previous number 6 = 13\n",
            "Current number 8 + Previous number 7 = 15\n",
            "Current number 9 + Previous number 8 = 17\n"
          ]
        }
      ]
    },
    {
      "cell_type": "markdown",
      "source": [
        "5)Write a Python program to print only those numbers which are divisible\n",
        "of 5.\n",
        "Sample input: 10, 20,33,46,55 Sample output: 10, 20, 55"
      ],
      "metadata": {
        "id": "KzcFRAGf58G1"
      }
    },
    {
      "cell_type": "code",
      "source": [
        "num = [10,20,33,46,55]\n",
        "for n in num:\n",
        "  if n%5 == 0:\n",
        "    print(n)"
      ],
      "metadata": {
        "colab": {
          "base_uri": "https://localhost:8080/"
        },
        "id": "b6RKSy_16awR",
        "outputId": "0ba08f2c-9a01-4479-92e1-93a6bc2966e7"
      },
      "execution_count": 38,
      "outputs": [
        {
          "output_type": "stream",
          "name": "stdout",
          "text": [
            "10\n",
            "20\n",
            "55\n"
          ]
        }
      ]
    },
    {
      "cell_type": "markdown",
      "source": [
        "6) Write a Python program to check whether a number is prime or not.\n",
        "Sample input: Enter the number: 3\n",
        "Sample output: 3 is a prime number"
      ],
      "metadata": {
        "id": "KsnTQ-9M9seP"
      }
    },
    {
      "cell_type": "code",
      "source": [
        "n =int(input('enter the no: '))\n",
        "\n",
        "if n>1:\n",
        "  for i in range(2,n):\n",
        "    if n%i==0:\n",
        "      print(n,' is not a prime number')\n",
        "      break\n",
        "  else:\n",
        "      print(n,'is a  prime number')\n",
        "else:\n",
        "  print(n,'is not a prime number')"
      ],
      "metadata": {
        "colab": {
          "base_uri": "https://localhost:8080/"
        },
        "id": "1lf5tore9w9i",
        "outputId": "fcd23e18-d93f-40ce-87c6-5bb0a3021f7b"
      },
      "execution_count": 41,
      "outputs": [
        {
          "output_type": "stream",
          "name": "stdout",
          "text": [
            "enter the no: 3\n",
            "3 is a  prime number\n"
          ]
        }
      ]
    },
    {
      "cell_type": "markdown",
      "source": [
        "7) Write a Python program to reverse a list using for loop.\n",
        "Sample input: 10,40,30,70\n",
        "Sample output: 70,30,40,10"
      ],
      "metadata": {
        "id": "wcUpgliU-KGO"
      }
    },
    {
      "cell_type": "code",
      "source": [
        "list2=[10,40,30,70]\n",
        "rev_list=list2[::-1]\n",
        "print(rev_list)"
      ],
      "metadata": {
        "colab": {
          "base_uri": "https://localhost:8080/"
        },
        "id": "10x5rZpG-QJ5",
        "outputId": "664c72d0-c120-4797-ae60-7cb08ab93408"
      },
      "execution_count": 43,
      "outputs": [
        {
          "output_type": "stream",
          "name": "stdout",
          "text": [
            "[70, 30, 40, 10]\n"
          ]
        }
      ]
    },
    {
      "cell_type": "markdown",
      "source": [
        "8)Write a Python program to print the following pattern.\n",
        "*\n",
        "**\n",
        "***\n",
        "****\n",
        "\n"
      ],
      "metadata": {
        "id": "ueHBdkw3_iab"
      }
    },
    {
      "cell_type": "code",
      "source": [
        "i=4\n",
        "for i in range(1,i+1):\n",
        "  print(\"*\"* i)"
      ],
      "metadata": {
        "colab": {
          "base_uri": "https://localhost:8080/"
        },
        "id": "sO2XdGX5_nq4",
        "outputId": "964cdeea-ea3b-448f-e416-f2426cd83c0a"
      },
      "execution_count": 54,
      "outputs": [
        {
          "output_type": "stream",
          "name": "stdout",
          "text": [
            "*\n",
            "**\n",
            "***\n",
            "****\n"
          ]
        }
      ]
    },
    {
      "cell_type": "markdown",
      "source": [
        "9) Write a Python program to find the maximum of three numbers\n",
        "Sample input: 34,12,7\n",
        "Sample output: 34\n"
      ],
      "metadata": {
        "id": "8N29tlHUBn76"
      }
    },
    {
      "cell_type": "code",
      "source": [
        "list3=[34,12,7]\n",
        "max(list3)\n"
      ],
      "metadata": {
        "colab": {
          "base_uri": "https://localhost:8080/"
        },
        "id": "WddpZmmpBvlm",
        "outputId": "51f50cdf-7c60-4960-efb8-a43816b38475"
      },
      "execution_count": 59,
      "outputs": [
        {
          "output_type": "execute_result",
          "data": {
            "text/plain": [
              "34"
            ]
          },
          "metadata": {},
          "execution_count": 59
        }
      ]
    },
    {
      "cell_type": "markdown",
      "source": [
        "10) Write a Python program to construct the following pattern, using a\n",
        "nested for loop.\n"
      ],
      "metadata": {
        "id": "rm6XpvxECdm8"
      }
    },
    {
      "cell_type": "code",
      "source": [
        "i=5\n",
        "for i in range(1, i + 1):\n",
        "          print(\"*\" * i)\n",
        "\n",
        "for i in range(i - 1, 0, -1):\n",
        "        print(\"*\" * i)"
      ],
      "metadata": {
        "colab": {
          "base_uri": "https://localhost:8080/"
        },
        "id": "NRu_fVU2CdPQ",
        "outputId": "7af6bf24-82ca-4208-edc9-55b5c457a435"
      },
      "execution_count": 63,
      "outputs": [
        {
          "output_type": "stream",
          "name": "stdout",
          "text": [
            "*\n",
            "**\n",
            "***\n",
            "****\n",
            "*****\n",
            "****\n",
            "***\n",
            "**\n",
            "*\n"
          ]
        }
      ]
    }
  ]
}