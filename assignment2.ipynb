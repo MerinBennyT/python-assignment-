{
  "nbformat": 4,
  "nbformat_minor": 0,
  "metadata": {
    "colab": {
      "provenance": []
    },
    "kernelspec": {
      "name": "python3",
      "display_name": "Python 3"
    },
    "language_info": {
      "name": "python"
    }
  },
  "cells": [
    {
      "cell_type": "markdown",
      "source": [
        "1)Write a Python program to accept a string value from the user and display\n",
        "the count of each character in that string. Sample input: Enter a string\n",
        "value: assembly Sample output: a=1, s=2, e=1, m=1, b=1, l=1, y=1"
      ],
      "metadata": {
        "id": "qkmEG-6rtpab"
      }
    },
    {
      "cell_type": "code",
      "source": [
        "str1 = 'assembly'\n",
        "print('a=', str1.count('a'))\n",
        "print('s=', str1.count('s'))\n",
        "print('e=', str1.count('e'))\n",
        "print('m=', str1.count('m'))\n",
        "print('b=', str1.count('b'))\n",
        "print('l=', str1.count('l'))\n",
        "print('y=', str1.count('y'))"
      ],
      "metadata": {
        "id": "dsZdPaMstspm",
        "colab": {
          "base_uri": "https://localhost:8080/"
        },
        "outputId": "d7746b18-fcb1-4690-9071-a138f5219331"
      },
      "execution_count": 78,
      "outputs": [
        {
          "output_type": "stream",
          "name": "stdout",
          "text": [
            "a= 1\n",
            "s= 2\n",
            "e= 1\n",
            "m= 1\n",
            "b= 1\n",
            "l= 1\n",
            "y= 1\n"
          ]
        }
      ]
    },
    {
      "cell_type": "markdown",
      "source": [
        "2) . Write a Python function to find the maximum of three numbers Sample\n",
        "input: 34,12,7 Sample output: 34"
      ],
      "metadata": {
        "id": "opk5f9yfx7Rm"
      }
    },
    {
      "cell_type": "code",
      "source": [
        "list1=[34,12,7]\n",
        "max(list1)"
      ],
      "metadata": {
        "colab": {
          "base_uri": "https://localhost:8080/"
        },
        "id": "catJft03x4Jp",
        "outputId": "b6f564b2-af6b-4039-bdbc-368df2d8a3ad"
      },
      "execution_count": 7,
      "outputs": [
        {
          "output_type": "execute_result",
          "data": {
            "text/plain": [
              "34"
            ]
          },
          "metadata": {},
          "execution_count": 7
        }
      ]
    },
    {
      "cell_type": "markdown",
      "source": [
        "3) Write a Python function called exponent(base,exp) that returns an\n",
        "integer value of base raises to the power of exp. Sample input: Enter the\n",
        "base: 2 Enter the exponent: 3 Sample output: 8"
      ],
      "metadata": {
        "id": "nsnSqTlXyLnS"
      }
    },
    {
      "cell_type": "code",
      "source": [
        "import numpy as np\n",
        "n=int(input('Enter the base:'))\n",
        "exp=int(input('Enter the exponent:'))\n",
        "result=np.power(n,exp)\n",
        "print(result)"
      ],
      "metadata": {
        "colab": {
          "base_uri": "https://localhost:8080/"
        },
        "id": "ez_maSoQyIGU",
        "outputId": "4e2fd6e7-ba98-4776-fe5e-dabf87d68f66"
      },
      "execution_count": 8,
      "outputs": [
        {
          "output_type": "stream",
          "name": "stdout",
          "text": [
            "Enter the base:2\n",
            "Enter the exponent:3\n",
            "8\n"
          ]
        }
      ]
    },
    {
      "cell_type": "markdown",
      "source": [
        "4)Write a Python function that takes a positive integer and returns the sum\n",
        "of the cube of all the positive integers smaller than the specified number.\n",
        "Sample input: 4 Sample output: 36"
      ],
      "metadata": {
        "id": "sXJPgtKvzDTQ"
      }
    },
    {
      "cell_type": "code",
      "source": [
        "num=int(input('enter a number:'))\n",
        "sum=0\n",
        "for i in range(1,num):\n",
        "  sum+=i**3\n",
        "print(sum)"
      ],
      "metadata": {
        "colab": {
          "base_uri": "https://localhost:8080/"
        },
        "id": "p9R-PrJezAm2",
        "outputId": "4ffff352-7764-41ea-9c15-6bae1afb5b19"
      },
      "execution_count": 17,
      "outputs": [
        {
          "output_type": "stream",
          "name": "stdout",
          "text": [
            "enter a number:4\n",
            "36\n"
          ]
        }
      ]
    },
    {
      "cell_type": "markdown",
      "source": [
        "5) Write a Python program which iterates from 1 to 10. For multiples of 2,\n",
        "print “Fizz” instead of the number and for the multiples of 5, print “Buzz”.\n",
        "For numbers which are multiples of both 2 and 5, print “FizzBuzz”.\n",
        "Sample input: numbers from 1 to 10 Sample output: 1 Fizz 3 Fizz Buzz\n",
        "Fizz 7 Fizz 9 FizzBuzz"
      ],
      "metadata": {
        "id": "mUlJGAJL1QKC"
      }
    },
    {
      "cell_type": "code",
      "source": [
        "for i in range(1,11):\n",
        "  if i%2==0 and i%5==0:\n",
        "    print(\"FrizzBuzz\")\n",
        "\n",
        "  elif i%2==0:\n",
        "   print(\"fizz\")\n",
        "\n",
        "\n",
        "  elif i%5==0:\n",
        "     print(\"Buzz\")\n",
        "\n",
        "  else:\n",
        "   print(i)"
      ],
      "metadata": {
        "colab": {
          "base_uri": "https://localhost:8080/"
        },
        "id": "tdsPpL3e1Pq0",
        "outputId": "968afb2c-f559-4072-c658-917792c197ba"
      },
      "execution_count": 29,
      "outputs": [
        {
          "output_type": "stream",
          "name": "stdout",
          "text": [
            "1\n",
            "fizz\n",
            "3\n",
            "fizz\n",
            "Buzz\n",
            "fizz\n",
            "7\n",
            "fizz\n",
            "9\n",
            "FrizzBuzz\n"
          ]
        }
      ]
    },
    {
      "cell_type": "markdown",
      "source": [
        "6) Write a Python program to find the most frequent item in a list of\n",
        "numbers. Sample input: 2, 3, 4, 2, 5, 2 Sample output: 2"
      ],
      "metadata": {
        "id": "WrPErP9b4yun"
      }
    },
    {
      "cell_type": "code",
      "source": [
        "def most_frequent(List):\n",
        "    return max(set(List), key = List.count)\n",
        "\n",
        "List = [2, 3, 4, 2, 5, 2]\n",
        "print(most_frequent(List))\n"
      ],
      "metadata": {
        "colab": {
          "base_uri": "https://localhost:8080/"
        },
        "id": "ChnfXWZ92xGj",
        "outputId": "fc851eaf-5311-4a9d-fe30-7bc2f352011c"
      },
      "execution_count": 91,
      "outputs": [
        {
          "output_type": "stream",
          "name": "stdout",
          "text": [
            "2\n"
          ]
        }
      ]
    },
    {
      "cell_type": "markdown",
      "source": [
        "7) Write a Python program to find the sum of squares of the numbers in a\n",
        "list. Sample input: 2,1,3,1 Sample output: 15"
      ],
      "metadata": {
        "id": "oT-txtGu7HBH"
      }
    },
    {
      "cell_type": "code",
      "source": [
        "import numpy as np\n",
        "n=np.array([2,1,3,1])\n",
        "sum=np.sum(n**2)\n",
        "print(sum)"
      ],
      "metadata": {
        "colab": {
          "base_uri": "https://localhost:8080/"
        },
        "id": "BDqiiC0e7NfX",
        "outputId": "e795f846-288c-4d95-e953-d52cb9b96ef2"
      },
      "execution_count": 40,
      "outputs": [
        {
          "output_type": "stream",
          "name": "stdout",
          "text": [
            "15\n"
          ]
        }
      ]
    },
    {
      "cell_type": "markdown",
      "source": [
        "8)Write a Python program using for loop that will iterate from 1 to 15. For\n",
        "each iteration, check if the current number is odd or even, and display the\n",
        "message to the screen as odd or even. Sample input: 1….15 Sample\n",
        "output: 1-odd 2-even …. 15-odd"
      ],
      "metadata": {
        "id": "Kl5nB5ya8-6r"
      }
    },
    {
      "cell_type": "code",
      "source": [
        "for i in range(1,16):\n",
        "  if i%2==0:\n",
        "    print(i,\"-even\")\n",
        "\n",
        "  else:\n",
        "   print(i,\"-odd\")\n",
        ""
      ],
      "metadata": {
        "colab": {
          "base_uri": "https://localhost:8080/"
        },
        "id": "DBvO_c219Cpx",
        "outputId": "bc313776-891f-4301-d8a5-64f33a39d7d9"
      },
      "execution_count": 42,
      "outputs": [
        {
          "output_type": "stream",
          "name": "stdout",
          "text": [
            "1 -odd\n",
            "2 -even\n",
            "3 -odd\n",
            "4 -even\n",
            "5 -odd\n",
            "6 -even\n",
            "7 -odd\n",
            "8 -even\n",
            "9 -odd\n",
            "10 -even\n",
            "11 -odd\n",
            "12 -even\n",
            "13 -odd\n",
            "14 -even\n",
            "15 -odd\n"
          ]
        }
      ]
    },
    {
      "cell_type": "markdown",
      "source": [
        "9) Write a Python program to convert temperatures to and from Celsius\n",
        "Fahrenheit. [Formula: c/5=f-32/9 where c=temperature in Celsius and f=\n",
        "temperature in Fahrenheit.] Sample input: Temperature in Fahrenheit\n",
        "=41 Sample output: Temperature in Celsius =5"
      ],
      "metadata": {
        "id": "fVEvZpaz-ClV"
      }
    },
    {
      "cell_type": "code",
      "source": [
        "f=int(input('Temperature in Fahrenheit ='))\n",
        "c=(f-32)*5/9\n",
        "print('Temperature in Celsius =',f'{c:.2f}')"
      ],
      "metadata": {
        "colab": {
          "base_uri": "https://localhost:8080/"
        },
        "id": "QYIyKNh1-Lpa",
        "outputId": "66d4c6ef-a4fa-414b-9ad0-405caab7f4a9"
      },
      "execution_count": 49,
      "outputs": [
        {
          "output_type": "stream",
          "name": "stdout",
          "text": [
            "Temperature in Fahrenheit =41\n",
            "Temperature in Celsius = 5.00\n"
          ]
        }
      ]
    },
    {
      "cell_type": "markdown",
      "source": [
        "10)Write a Python function to calculate the factorial of a number (a\n",
        "nonnegative integer). The function accepts the number as an argument.\n",
        "Sample input: 3 Sample output: 6"
      ],
      "metadata": {
        "id": "1VKZbQCz_LG1"
      }
    },
    {
      "cell_type": "code",
      "source": [
        "n = int(input(\"Enter a number:\"))\n",
        "if n == 0:\n",
        "  print('1')\n",
        "else:\n",
        "   print( n * factorial(n-1))\n"
      ],
      "metadata": {
        "colab": {
          "base_uri": "https://localhost:8080/"
        },
        "id": "cr_s4paMDvu-",
        "outputId": "896234fb-9f59-4e3a-c237-db810257273b"
      },
      "execution_count": 63,
      "outputs": [
        {
          "output_type": "stream",
          "name": "stdout",
          "text": [
            "Enter a number:0\n",
            "1\n"
          ]
        }
      ]
    }
  ]
}